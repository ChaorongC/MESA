{
 "cells": [
  {
   "attachments": {},
   "cell_type": "markdown",
   "id": "52535d63",
   "metadata": {},
   "source": [
    "**Author**: Chaorong Chen (c.chen@uci.edu)\n",
    "\n",
    "**Content**: This Jupyter notebook demonstrates briefly how to use MESA to analyze various types of features/datasets, build a single modality, and integrate the results of the single modality into a multimodality. In this case, we generated two datasets at random for demonstration purposes, all with identical sample labels. The results showed that multimodality outperformed single-modality by taking informatic features from both single-modalities.\n"
   ]
  },
  {
   "attachments": {},
   "cell_type": "markdown",
   "id": "6eda8d48",
   "metadata": {},
   "source": [
    "# Import\n"
   ]
  },
  {
   "cell_type": "code",
   "execution_count": 2,
   "id": "ada51a74",
   "metadata": {
    "ExecuteTime": {
     "end_time": "2022-07-21T05:35:08.256041Z",
     "start_time": "2022-07-21T05:35:08.253116Z"
    }
   },
   "outputs": [],
   "source": [
    "from MESA_util import *\n",
    "import matplotlib.pyplot as plt\n",
    "from sklearn.metrics import roc_curve\n",
    "from sklearn.datasets import make_classification"
   ]
  },
  {
   "cell_type": "code",
   "execution_count": 3,
   "id": "f287648e",
   "metadata": {
    "ExecuteTime": {
     "end_time": "2022-07-21T05:35:38.844956Z",
     "start_time": "2022-07-21T05:35:38.840722Z"
    }
   },
   "outputs": [],
   "source": [
    "def plot_ROC(y_true, y_pred):\n",
    "    fpr, tpr, _ = roc_curve(y_true, y_pred)\n",
    "    auc = roc_auc_score(y_true, y_pred)\n",
    "    plt.plot(fpr, tpr, label=\"AUC=\" + str(auc))\n",
    "    plt.ylabel(\"True Positive Rate\")\n",
    "    plt.xlabel(\"False Positive Rate\")\n",
    "    plt.legend(loc=4)\n",
    "    plt.show()\n"
   ]
  },
  {
   "attachments": {},
   "cell_type": "markdown",
   "id": "0a0d2fdf",
   "metadata": {},
   "source": [
    "# Create random datasets for testing\n"
   ]
  },
  {
   "cell_type": "code",
   "execution_count": 4,
   "id": "fc2a4968",
   "metadata": {},
   "outputs": [],
   "source": [
    "dataset1, label = make_classification(\n",
    "    n_samples=20,\n",
    "    n_features=50,\n",
    "    n_informative=30,\n",
    "    n_redundant=5,\n",
    "    random_state=0,\n",
    "    shuffle=False,\n",
    ")\n",
    "\n",
    "dataset2, label_ = make_classification(\n",
    "    n_samples=20,\n",
    "    n_features=40,\n",
    "    n_informative=20,\n",
    "    n_redundant=5,\n",
    "    random_state=0,\n",
    "    shuffle=False,\n",
    ")"
   ]
  },
  {
   "cell_type": "code",
   "execution_count": 5,
   "id": "33875d97",
   "metadata": {},
   "outputs": [],
   "source": [
    "dataset1 = pd.DataFrame(\n",
    "    dataset1,\n",
    "    columns=[\"feature_1_\" + str(_) for _ in range(50)],\n",
    "    index=[(\"Cancer\" if _ == 1 else \"Normal\") for _ in label],\n",
    ").T\n",
    "dataset2 = pd.DataFrame(\n",
    "    dataset2,\n",
    "    columns=[\"feature_2_\" + str(_) for _ in range(40)],\n",
    "    index=[(\"Cancer\" if _ == 1 else \"Normal\") for _ in label],\n",
    ").T"
   ]
  },
  {
   "cell_type": "code",
   "execution_count": 6,
   "id": "c72afdcc",
   "metadata": {
    "ExecuteTime": {
     "end_time": "2022-07-21T05:56:59.692981Z",
     "start_time": "2022-07-21T05:56:59.671922Z"
    }
   },
   "outputs": [
    {
     "data": {
      "text/html": [
       "<div>\n",
       "<style scoped>\n",
       "    .dataframe tbody tr th:only-of-type {\n",
       "        vertical-align: middle;\n",
       "    }\n",
       "\n",
       "    .dataframe tbody tr th {\n",
       "        vertical-align: top;\n",
       "    }\n",
       "\n",
       "    .dataframe thead th {\n",
       "        text-align: right;\n",
       "    }\n",
       "</style>\n",
       "<table border=\"1\" class=\"dataframe\">\n",
       "  <thead>\n",
       "    <tr style=\"text-align: right;\">\n",
       "      <th></th>\n",
       "      <th>Normal</th>\n",
       "      <th>Normal</th>\n",
       "      <th>Normal</th>\n",
       "      <th>Normal</th>\n",
       "      <th>Normal</th>\n",
       "      <th>Cancer</th>\n",
       "      <th>Cancer</th>\n",
       "      <th>Cancer</th>\n",
       "      <th>Cancer</th>\n",
       "      <th>Cancer</th>\n",
       "      <th>Normal</th>\n",
       "      <th>Normal</th>\n",
       "      <th>Normal</th>\n",
       "      <th>Normal</th>\n",
       "      <th>Normal</th>\n",
       "      <th>Cancer</th>\n",
       "      <th>Cancer</th>\n",
       "      <th>Cancer</th>\n",
       "      <th>Cancer</th>\n",
       "      <th>Cancer</th>\n",
       "    </tr>\n",
       "  </thead>\n",
       "  <tbody>\n",
       "    <tr>\n",
       "      <th>feature_1_0</th>\n",
       "      <td>-2.657438</td>\n",
       "      <td>0.250462</td>\n",
       "      <td>-6.316733</td>\n",
       "      <td>-0.183008</td>\n",
       "      <td>-3.157091</td>\n",
       "      <td>-0.373797</td>\n",
       "      <td>-1.271039</td>\n",
       "      <td>-1.655216</td>\n",
       "      <td>2.316599</td>\n",
       "      <td>-2.708390</td>\n",
       "      <td>-3.514962</td>\n",
       "      <td>-0.636650</td>\n",
       "      <td>-2.301711</td>\n",
       "      <td>-0.555753</td>\n",
       "      <td>3.657662</td>\n",
       "      <td>0.797684</td>\n",
       "      <td>-1.345706</td>\n",
       "      <td>-4.046547</td>\n",
       "      <td>0.323794</td>\n",
       "      <td>5.727181</td>\n",
       "    </tr>\n",
       "    <tr>\n",
       "      <th>feature_1_1</th>\n",
       "      <td>-4.047969</td>\n",
       "      <td>0.059135</td>\n",
       "      <td>12.176013</td>\n",
       "      <td>2.180394</td>\n",
       "      <td>-1.959148</td>\n",
       "      <td>7.983654</td>\n",
       "      <td>4.252196</td>\n",
       "      <td>-4.331032</td>\n",
       "      <td>3.810289</td>\n",
       "      <td>0.977776</td>\n",
       "      <td>-0.197668</td>\n",
       "      <td>7.882415</td>\n",
       "      <td>4.299040</td>\n",
       "      <td>-2.233456</td>\n",
       "      <td>1.555099</td>\n",
       "      <td>-1.260301</td>\n",
       "      <td>5.317385</td>\n",
       "      <td>0.997258</td>\n",
       "      <td>4.693458</td>\n",
       "      <td>1.638596</td>\n",
       "    </tr>\n",
       "    <tr>\n",
       "      <th>feature_1_2</th>\n",
       "      <td>0.336807</td>\n",
       "      <td>2.574391</td>\n",
       "      <td>1.643657</td>\n",
       "      <td>2.056295</td>\n",
       "      <td>-2.111729</td>\n",
       "      <td>-3.422055</td>\n",
       "      <td>-1.489284</td>\n",
       "      <td>-0.688571</td>\n",
       "      <td>-0.449130</td>\n",
       "      <td>-1.067020</td>\n",
       "      <td>-0.043363</td>\n",
       "      <td>-0.856425</td>\n",
       "      <td>-1.341088</td>\n",
       "      <td>1.084733</td>\n",
       "      <td>6.465461</td>\n",
       "      <td>1.609761</td>\n",
       "      <td>2.851012</td>\n",
       "      <td>6.886433</td>\n",
       "      <td>-5.484811</td>\n",
       "      <td>0.894754</td>\n",
       "    </tr>\n",
       "    <tr>\n",
       "      <th>feature_1_3</th>\n",
       "      <td>2.617077</td>\n",
       "      <td>1.375779</td>\n",
       "      <td>2.223775</td>\n",
       "      <td>1.451959</td>\n",
       "      <td>1.754885</td>\n",
       "      <td>4.093960</td>\n",
       "      <td>3.859569</td>\n",
       "      <td>0.435443</td>\n",
       "      <td>4.673766</td>\n",
       "      <td>1.010637</td>\n",
       "      <td>2.421923</td>\n",
       "      <td>5.816843</td>\n",
       "      <td>-3.427341</td>\n",
       "      <td>-5.362654</td>\n",
       "      <td>0.817183</td>\n",
       "      <td>-0.067298</td>\n",
       "      <td>-6.467959</td>\n",
       "      <td>-6.892887</td>\n",
       "      <td>-1.956304</td>\n",
       "      <td>0.193378</td>\n",
       "    </tr>\n",
       "    <tr>\n",
       "      <th>feature_1_4</th>\n",
       "      <td>-8.929103</td>\n",
       "      <td>5.587176</td>\n",
       "      <td>-1.891227</td>\n",
       "      <td>7.925671</td>\n",
       "      <td>0.886867</td>\n",
       "      <td>3.427853</td>\n",
       "      <td>8.519712</td>\n",
       "      <td>-3.558961</td>\n",
       "      <td>1.644851</td>\n",
       "      <td>-0.283583</td>\n",
       "      <td>1.569537</td>\n",
       "      <td>0.003211</td>\n",
       "      <td>-1.846819</td>\n",
       "      <td>1.642075</td>\n",
       "      <td>-5.320329</td>\n",
       "      <td>-0.843546</td>\n",
       "      <td>-5.943937</td>\n",
       "      <td>-3.330491</td>\n",
       "      <td>-0.213274</td>\n",
       "      <td>4.349994</td>\n",
       "    </tr>\n",
       "  </tbody>\n",
       "</table>\n",
       "</div>"
      ],
      "text/plain": [
       "               Normal    Normal     Normal    Normal    Normal    Cancer  \\\n",
       "feature_1_0 -2.657438  0.250462  -6.316733 -0.183008 -3.157091 -0.373797   \n",
       "feature_1_1 -4.047969  0.059135  12.176013  2.180394 -1.959148  7.983654   \n",
       "feature_1_2  0.336807  2.574391   1.643657  2.056295 -2.111729 -3.422055   \n",
       "feature_1_3  2.617077  1.375779   2.223775  1.451959  1.754885  4.093960   \n",
       "feature_1_4 -8.929103  5.587176  -1.891227  7.925671  0.886867  3.427853   \n",
       "\n",
       "               Cancer    Cancer    Cancer    Cancer    Normal    Normal  \\\n",
       "feature_1_0 -1.271039 -1.655216  2.316599 -2.708390 -3.514962 -0.636650   \n",
       "feature_1_1  4.252196 -4.331032  3.810289  0.977776 -0.197668  7.882415   \n",
       "feature_1_2 -1.489284 -0.688571 -0.449130 -1.067020 -0.043363 -0.856425   \n",
       "feature_1_3  3.859569  0.435443  4.673766  1.010637  2.421923  5.816843   \n",
       "feature_1_4  8.519712 -3.558961  1.644851 -0.283583  1.569537  0.003211   \n",
       "\n",
       "               Normal    Normal    Normal    Cancer    Cancer    Cancer  \\\n",
       "feature_1_0 -2.301711 -0.555753  3.657662  0.797684 -1.345706 -4.046547   \n",
       "feature_1_1  4.299040 -2.233456  1.555099 -1.260301  5.317385  0.997258   \n",
       "feature_1_2 -1.341088  1.084733  6.465461  1.609761  2.851012  6.886433   \n",
       "feature_1_3 -3.427341 -5.362654  0.817183 -0.067298 -6.467959 -6.892887   \n",
       "feature_1_4 -1.846819  1.642075 -5.320329 -0.843546 -5.943937 -3.330491   \n",
       "\n",
       "               Cancer    Cancer  \n",
       "feature_1_0  0.323794  5.727181  \n",
       "feature_1_1  4.693458  1.638596  \n",
       "feature_1_2 -5.484811  0.894754  \n",
       "feature_1_3 -1.956304  0.193378  \n",
       "feature_1_4 -0.213274  4.349994  "
      ]
     },
     "execution_count": 6,
     "metadata": {},
     "output_type": "execute_result"
    }
   ],
   "source": [
    "dataset1.head()"
   ]
  },
  {
   "cell_type": "code",
   "execution_count": 7,
   "id": "44465c47",
   "metadata": {
    "ExecuteTime": {
     "end_time": "2022-07-21T05:57:00.729050Z",
     "start_time": "2022-07-21T05:57:00.709843Z"
    },
    "scrolled": true
   },
   "outputs": [
    {
     "data": {
      "text/html": [
       "<div>\n",
       "<style scoped>\n",
       "    .dataframe tbody tr th:only-of-type {\n",
       "        vertical-align: middle;\n",
       "    }\n",
       "\n",
       "    .dataframe tbody tr th {\n",
       "        vertical-align: top;\n",
       "    }\n",
       "\n",
       "    .dataframe thead th {\n",
       "        text-align: right;\n",
       "    }\n",
       "</style>\n",
       "<table border=\"1\" class=\"dataframe\">\n",
       "  <thead>\n",
       "    <tr style=\"text-align: right;\">\n",
       "      <th></th>\n",
       "      <th>Normal</th>\n",
       "      <th>Normal</th>\n",
       "      <th>Normal</th>\n",
       "      <th>Normal</th>\n",
       "      <th>Normal</th>\n",
       "      <th>Cancer</th>\n",
       "      <th>Cancer</th>\n",
       "      <th>Cancer</th>\n",
       "      <th>Cancer</th>\n",
       "      <th>Cancer</th>\n",
       "      <th>Normal</th>\n",
       "      <th>Normal</th>\n",
       "      <th>Normal</th>\n",
       "      <th>Normal</th>\n",
       "      <th>Normal</th>\n",
       "      <th>Cancer</th>\n",
       "      <th>Cancer</th>\n",
       "      <th>Cancer</th>\n",
       "      <th>Cancer</th>\n",
       "      <th>Cancer</th>\n",
       "    </tr>\n",
       "  </thead>\n",
       "  <tbody>\n",
       "    <tr>\n",
       "      <th>feature_2_0</th>\n",
       "      <td>-0.602556</td>\n",
       "      <td>3.643032</td>\n",
       "      <td>3.037892</td>\n",
       "      <td>-1.109481</td>\n",
       "      <td>2.385997</td>\n",
       "      <td>-5.984252</td>\n",
       "      <td>-2.916217</td>\n",
       "      <td>1.923783</td>\n",
       "      <td>-0.342886</td>\n",
       "      <td>-0.208612</td>\n",
       "      <td>1.133495</td>\n",
       "      <td>0.177237</td>\n",
       "      <td>0.658569</td>\n",
       "      <td>0.143992</td>\n",
       "      <td>-2.691958</td>\n",
       "      <td>-2.962459</td>\n",
       "      <td>1.106371</td>\n",
       "      <td>-0.519772</td>\n",
       "      <td>-2.737600</td>\n",
       "      <td>2.896222</td>\n",
       "    </tr>\n",
       "    <tr>\n",
       "      <th>feature_2_1</th>\n",
       "      <td>5.912015</td>\n",
       "      <td>4.584149</td>\n",
       "      <td>0.131728</td>\n",
       "      <td>-2.882158</td>\n",
       "      <td>5.968676</td>\n",
       "      <td>2.285868</td>\n",
       "      <td>-0.926496</td>\n",
       "      <td>1.840909</td>\n",
       "      <td>-0.130376</td>\n",
       "      <td>-1.320260</td>\n",
       "      <td>3.914576</td>\n",
       "      <td>-1.048612</td>\n",
       "      <td>5.839853</td>\n",
       "      <td>2.979434</td>\n",
       "      <td>2.506142</td>\n",
       "      <td>-0.443105</td>\n",
       "      <td>1.252658</td>\n",
       "      <td>-1.382861</td>\n",
       "      <td>-4.003773</td>\n",
       "      <td>-3.995266</td>\n",
       "    </tr>\n",
       "    <tr>\n",
       "      <th>feature_2_2</th>\n",
       "      <td>-3.712827</td>\n",
       "      <td>2.349710</td>\n",
       "      <td>-1.674970</td>\n",
       "      <td>6.494007</td>\n",
       "      <td>-0.958747</td>\n",
       "      <td>-4.429147</td>\n",
       "      <td>-2.819524</td>\n",
       "      <td>-1.717120</td>\n",
       "      <td>-0.549012</td>\n",
       "      <td>-0.380938</td>\n",
       "      <td>-2.246815</td>\n",
       "      <td>2.602718</td>\n",
       "      <td>-1.787210</td>\n",
       "      <td>2.916498</td>\n",
       "      <td>3.777609</td>\n",
       "      <td>-0.087982</td>\n",
       "      <td>0.793247</td>\n",
       "      <td>-4.773273</td>\n",
       "      <td>-0.976853</td>\n",
       "      <td>-3.822507</td>\n",
       "    </tr>\n",
       "    <tr>\n",
       "      <th>feature_2_3</th>\n",
       "      <td>-0.249867</td>\n",
       "      <td>-2.310414</td>\n",
       "      <td>0.478615</td>\n",
       "      <td>0.945218</td>\n",
       "      <td>-2.274545</td>\n",
       "      <td>1.600593</td>\n",
       "      <td>-2.064119</td>\n",
       "      <td>1.653003</td>\n",
       "      <td>1.510509</td>\n",
       "      <td>0.423255</td>\n",
       "      <td>-1.516784</td>\n",
       "      <td>-1.658048</td>\n",
       "      <td>-1.392895</td>\n",
       "      <td>-1.889464</td>\n",
       "      <td>1.077493</td>\n",
       "      <td>3.039729</td>\n",
       "      <td>-7.109191</td>\n",
       "      <td>-1.954977</td>\n",
       "      <td>4.625182</td>\n",
       "      <td>-3.502716</td>\n",
       "    </tr>\n",
       "    <tr>\n",
       "      <th>feature_2_4</th>\n",
       "      <td>-2.576757</td>\n",
       "      <td>3.888342</td>\n",
       "      <td>2.090072</td>\n",
       "      <td>-3.132203</td>\n",
       "      <td>-2.847686</td>\n",
       "      <td>-1.642812</td>\n",
       "      <td>2.669854</td>\n",
       "      <td>-2.681256</td>\n",
       "      <td>1.341412</td>\n",
       "      <td>5.071602</td>\n",
       "      <td>-1.507957</td>\n",
       "      <td>3.669974</td>\n",
       "      <td>-2.416891</td>\n",
       "      <td>4.494471</td>\n",
       "      <td>4.878578</td>\n",
       "      <td>0.287927</td>\n",
       "      <td>-0.834164</td>\n",
       "      <td>2.106695</td>\n",
       "      <td>-0.603902</td>\n",
       "      <td>0.547497</td>\n",
       "    </tr>\n",
       "  </tbody>\n",
       "</table>\n",
       "</div>"
      ],
      "text/plain": [
       "               Normal    Normal    Normal    Normal    Normal    Cancer  \\\n",
       "feature_2_0 -0.602556  3.643032  3.037892 -1.109481  2.385997 -5.984252   \n",
       "feature_2_1  5.912015  4.584149  0.131728 -2.882158  5.968676  2.285868   \n",
       "feature_2_2 -3.712827  2.349710 -1.674970  6.494007 -0.958747 -4.429147   \n",
       "feature_2_3 -0.249867 -2.310414  0.478615  0.945218 -2.274545  1.600593   \n",
       "feature_2_4 -2.576757  3.888342  2.090072 -3.132203 -2.847686 -1.642812   \n",
       "\n",
       "               Cancer    Cancer    Cancer    Cancer    Normal    Normal  \\\n",
       "feature_2_0 -2.916217  1.923783 -0.342886 -0.208612  1.133495  0.177237   \n",
       "feature_2_1 -0.926496  1.840909 -0.130376 -1.320260  3.914576 -1.048612   \n",
       "feature_2_2 -2.819524 -1.717120 -0.549012 -0.380938 -2.246815  2.602718   \n",
       "feature_2_3 -2.064119  1.653003  1.510509  0.423255 -1.516784 -1.658048   \n",
       "feature_2_4  2.669854 -2.681256  1.341412  5.071602 -1.507957  3.669974   \n",
       "\n",
       "               Normal    Normal    Normal    Cancer    Cancer    Cancer  \\\n",
       "feature_2_0  0.658569  0.143992 -2.691958 -2.962459  1.106371 -0.519772   \n",
       "feature_2_1  5.839853  2.979434  2.506142 -0.443105  1.252658 -1.382861   \n",
       "feature_2_2 -1.787210  2.916498  3.777609 -0.087982  0.793247 -4.773273   \n",
       "feature_2_3 -1.392895 -1.889464  1.077493  3.039729 -7.109191 -1.954977   \n",
       "feature_2_4 -2.416891  4.494471  4.878578  0.287927 -0.834164  2.106695   \n",
       "\n",
       "               Cancer    Cancer  \n",
       "feature_2_0 -2.737600  2.896222  \n",
       "feature_2_1 -4.003773 -3.995266  \n",
       "feature_2_2 -0.976853 -3.822507  \n",
       "feature_2_3  4.625182 -3.502716  \n",
       "feature_2_4 -0.603902  0.547497  "
      ]
     },
     "execution_count": 7,
     "metadata": {},
     "output_type": "execute_result"
    }
   ],
   "source": [
    "dataset2.head()"
   ]
  },
  {
   "attachments": {},
   "cell_type": "markdown",
   "id": "9525830a",
   "metadata": {},
   "source": [
    "# Run MESA\n"
   ]
  },
  {
   "attachments": {},
   "cell_type": "markdown",
   "id": "82b4a0e3",
   "metadata": {},
   "source": [
    "## Single modality\n"
   ]
  },
  {
   "cell_type": "code",
   "execution_count": 8,
   "id": "83b19681",
   "metadata": {
    "ExecuteTime": {
     "end_time": "2022-07-21T05:57:05.526873Z",
     "start_time": "2022-07-21T05:57:05.522995Z"
    },
    "run_control": {
     "marked": false
    }
   },
   "outputs": [],
   "source": [
    "random_state = 0"
   ]
  },
  {
   "cell_type": "code",
   "execution_count": 10,
   "id": "8b3bef47",
   "metadata": {
    "ExecuteTime": {
     "end_time": "2022-07-21T06:05:43.013124Z",
     "start_time": "2022-07-21T05:57:20.087340Z"
    }
   },
   "outputs": [
    {
     "name": "stdout",
     "output_type": "stream",
     "text": [
      "=============== No. 1  LOO iteration ===============\n",
      "VarianceThreshold(0): 0/50 features filtered\n",
      "=============== No. 2  LOO iteration ===============\n",
      "VarianceThreshold(0): 0/50 features filtered\n",
      "=============== No. 3  LOO iteration ===============\n",
      "VarianceThreshold(0): 0/50 features filtered\n",
      "=============== No. 4  LOO iteration ===============\n",
      "VarianceThreshold(0): 0/50 features filtered\n",
      "=============== No. 5  LOO iteration ===============\n",
      "VarianceThreshold(0): 0/50 features filtered\n",
      "=============== No. 6  LOO iteration ===============\n",
      "VarianceThreshold(0): 0/50 features filtered\n",
      "=============== No. 7  LOO iteration ===============\n",
      "VarianceThreshold(0): 0/50 features filtered\n",
      "=============== No. 8  LOO iteration ===============\n",
      "VarianceThreshold(0): 0/50 features filtered\n",
      "=============== No. 9  LOO iteration ===============\n",
      "VarianceThreshold(0): 0/50 features filtered\n",
      "=============== No. 10  LOO iteration ===============\n",
      "VarianceThreshold(0): 0/50 features filtered\n",
      "=============== No. 11  LOO iteration ===============\n",
      "VarianceThreshold(0): 0/50 features filtered\n",
      "=============== No. 12  LOO iteration ===============\n",
      "VarianceThreshold(0): 0/50 features filtered\n",
      "=============== No. 13  LOO iteration ===============\n",
      "VarianceThreshold(0): 0/50 features filtered\n",
      "=============== No. 14  LOO iteration ===============\n",
      "VarianceThreshold(0): 0/50 features filtered\n",
      "=============== No. 15  LOO iteration ===============\n",
      "VarianceThreshold(0): 0/50 features filtered\n",
      "=============== No. 16  LOO iteration ===============\n",
      "VarianceThreshold(0): 0/50 features filtered\n",
      "=============== No. 17  LOO iteration ===============\n",
      "VarianceThreshold(0): 0/50 features filtered\n",
      "=============== No. 18  LOO iteration ===============\n",
      "VarianceThreshold(0): 0/50 features filtered\n",
      "=============== No. 19  LOO iteration ===============\n",
      "VarianceThreshold(0): 0/50 features filtered\n",
      "=============== No. 20  LOO iteration ===============\n",
      "VarianceThreshold(0): 0/50 features filtered\n",
      "=============== No. 1  LOO iteration ===============\n",
      "VarianceThreshold(0): 0/40 features filtered\n",
      "=============== No. 2  LOO iteration ===============\n",
      "VarianceThreshold(0): 0/40 features filtered\n",
      "=============== No. 3  LOO iteration ===============\n",
      "VarianceThreshold(0): 0/40 features filtered\n",
      "=============== No. 4  LOO iteration ===============\n",
      "VarianceThreshold(0): 0/40 features filtered\n",
      "=============== No. 5  LOO iteration ===============\n",
      "VarianceThreshold(0): 0/40 features filtered\n",
      "=============== No. 6  LOO iteration ===============\n",
      "VarianceThreshold(0): 0/40 features filtered\n",
      "=============== No. 7  LOO iteration ===============\n",
      "VarianceThreshold(0): 0/40 features filtered\n",
      "=============== No. 8  LOO iteration ===============\n",
      "VarianceThreshold(0): 0/40 features filtered\n",
      "=============== No. 9  LOO iteration ===============\n",
      "VarianceThreshold(0): 0/40 features filtered\n",
      "=============== No. 10  LOO iteration ===============\n",
      "VarianceThreshold(0): 0/40 features filtered\n",
      "=============== No. 11  LOO iteration ===============\n",
      "VarianceThreshold(0): 0/40 features filtered\n",
      "=============== No. 12  LOO iteration ===============\n",
      "VarianceThreshold(0): 0/40 features filtered\n",
      "=============== No. 13  LOO iteration ===============\n",
      "VarianceThreshold(0): 0/40 features filtered\n",
      "=============== No. 14  LOO iteration ===============\n",
      "VarianceThreshold(0): 0/40 features filtered\n",
      "=============== No. 15  LOO iteration ===============\n",
      "VarianceThreshold(0): 0/40 features filtered\n",
      "=============== No. 16  LOO iteration ===============\n",
      "VarianceThreshold(0): 0/40 features filtered\n",
      "=============== No. 17  LOO iteration ===============\n",
      "VarianceThreshold(0): 0/40 features filtered\n",
      "=============== No. 18  LOO iteration ===============\n",
      "VarianceThreshold(0): 0/40 features filtered\n",
      "=============== No. 19  LOO iteration ===============\n",
      "VarianceThreshold(0): 0/40 features filtered\n",
      "=============== No. 20  LOO iteration ===============\n",
      "VarianceThreshold(0): 0/40 features filtered\n"
     ]
    }
   ],
   "source": [
    "# Construct single modalities\n",
    "mesa_result_1 = MESA_single(\n",
    "    X=dataset1,\n",
    "    y=label,\n",
    "    boruta_est=RandomForestClassifier(random_state=random_state, n_jobs=-1),\n",
    "    cv=LeaveOneOut(),\n",
    "    classifiers=[\n",
    "        RandomForestClassifier(random_state=random_state, n_jobs=-1),\n",
    "        LogisticRegression(random_state=random_state, n_jobs=-1),\n",
    "    ],\n",
    "    random_state=random_state,\n",
    "    boruta_top_n_feature=10,\n",
    "    variance_threshold=0,\n",
    "    missing_ratio=1,\n",
    "    normalization=False,\n",
    ")\n",
    "\n",
    "mesa_result_2 = MESA_single(\n",
    "    X=dataset2,\n",
    "    y=label,\n",
    "    boruta_est=RandomForestClassifier(random_state=random_state, n_jobs=-1),\n",
    "    cv=LeaveOneOut(),\n",
    "    classifiers=[\n",
    "        RandomForestClassifier(random_state=random_state, n_jobs=-1),\n",
    "        LogisticRegression(random_state=random_state, n_jobs=-1),\n",
    "    ],\n",
    "    random_state=random_state,\n",
    "    boruta_top_n_feature=10,\n",
    "    variance_threshold=0,\n",
    "    missing_ratio=1,\n",
    "    normalization=False,\n",
    ")\n"
   ]
  },
  {
   "cell_type": "code",
   "execution_count": 204,
   "id": "4f2f7495",
   "metadata": {},
   "outputs": [
    {
     "name": "stdout",
     "output_type": "stream",
     "text": [
      "AUC of dataset 1 [Random Forest, Logistic Regression]: [0.67, 0.6499999999999999]\n",
      "AUC of dataset 2 [Random Forest, Logistic Regression]: [0.45999999999999996, 0.6699999999999999]\n"
     ]
    }
   ],
   "source": [
    "# AUC\n",
    "mesa_single_summary_1 = MESA_summary(mesa_result_1, 2)\n",
    "mesa_single_summary_2 = MESA_summary(mesa_result_2, 2)\n",
    "print(\n",
    "    \"AUC of dataset 1 [Random Forest, Logistic Regression]: %s\"\n",
    "    % mesa_single_summary_1[-1]\n",
    ")\n",
    "print(\n",
    "    \"AUC of dataset 2 [Random Forest, Logistic Regression]: %s\"\n",
    "    % mesa_single_summary_2[-1]\n",
    ")\n"
   ]
  },
  {
   "cell_type": "code",
   "execution_count": null,
   "id": "e981d5cd",
   "metadata": {},
   "outputs": [],
   "source": []
  },
  {
   "cell_type": "code",
   "execution_count": 205,
   "id": "7cd24bca",
   "metadata": {
    "ExecuteTime": {
     "end_time": "2022-07-21T06:14:30.732904Z",
     "start_time": "2022-07-21T06:14:30.464304Z"
    }
   },
   "outputs": [
    {
     "data": {
      "image/png": "[encoded data removed]",
      "text/plain": [
       "<Figure size 432x288 with 1 Axes>"
      ]
     },
     "metadata": {
      "needs_background": "light"
     },
     "output_type": "display_data"
    },
    {
     "data": {
      "image/png": "[encoded data removed]",
      "text/plain": [
       "<Figure size 432x288 with 1 Axes>"
      ]
     },
     "metadata": {
      "needs_background": "light"
     },
     "output_type": "display_data"
    }
   ],
   "source": [
    "# ROC curve for RandomForest classifier\n",
    "plot_ROC(mesa_single_summary_1[0], mesa_single_summary_1[1][0])\n",
    "# ROC curve for Logistic Regresion classifier\n",
    "plot_ROC(mesa_single_summary_1[0], mesa_single_summary_1[1][1])"
   ]
  },
  {
   "cell_type": "code",
   "execution_count": 206,
   "id": "495ffe51",
   "metadata": {
    "ExecuteTime": {
     "end_time": "2022-07-21T06:14:36.803090Z",
     "start_time": "2022-07-21T06:14:36.552988Z"
    }
   },
   "outputs": [
    {
     "data": {
      "image/png": "[encoded data removed]",
      "text/plain": [
       "<Figure size 432x288 with 1 Axes>"
      ]
     },
     "metadata": {
      "needs_background": "light"
     },
     "output_type": "display_data"
    },
    {
     "data": {
      "image/png": "[encoded data removed]",
      "text/plain": [
       "<Figure size 432x288 with 1 Axes>"
      ]
     },
     "metadata": {
      "needs_background": "light"
     },
     "output_type": "display_data"
    }
   ],
   "source": [
    "# ROC curve for RandomForest classifier\n",
    "plot_ROC(mesa_single_summary_2[0], mesa_single_summary_2[1][0])\n",
    "# ROC curve for Logistic Regression classifier\n",
    "plot_ROC(mesa_single_summary_2[0], mesa_single_summary_2[1][1])"
   ]
  },
  {
   "attachments": {},
   "cell_type": "markdown",
   "id": "ca1273bc",
   "metadata": {},
   "source": [
    "## Multimodality\n"
   ]
  },
  {
   "cell_type": "code",
   "execution_count": 209,
   "id": "e31c1800",
   "metadata": {
    "ExecuteTime": {
     "end_time": "2022-07-21T06:14:18.428546Z",
     "start_time": "2022-07-21T06:14:12.642122Z"
    }
   },
   "outputs": [],
   "source": [
    "mesa_multimodal = MESA_integration(\n",
    "    X_list=[dataset1, dataset2],\n",
    "    y=label,\n",
    "    cv=LeaveOneOut(),\n",
    "    missing_ratio=1,\n",
    "    normalization=False,\n",
    "    estimator_list=[\n",
    "        LogisticRegression(random_state=random_state, n_jobs=-1),\n",
    "        LogisticRegression(random_state=random_state, n_jobs=-1),\n",
    "    ],\n",
    "    random_state=0,\n",
    "    meta_estimator=LogisticRegression(random_state=random_state, n_jobs=-1),\n",
    "    feature_selected=[mesa_result_1[0], mesa_result_2[0]],\n",
    ")\n"
   ]
  },
  {
   "cell_type": "code",
   "execution_count": 210,
   "id": "7351511c",
   "metadata": {},
   "outputs": [
    {
     "name": "stdout",
     "output_type": "stream",
     "text": [
      "AUC of multimodal integration: 0.78\n"
     ]
    }
   ],
   "source": [
    "mesa_integration_summary = MESA_integration_summary(mesa_multimodal)\n",
    "print(\"AUC of multimodal integration: %s\" % mesa_integration_summary[-1]) # @ Modified time: 2023-02-11 03:00:14 # @ Modified by: Chaorong Chen"
   ]
  },
  {
   "cell_type": "code",
   "execution_count": 121,
   "id": "44b8d4db",
   "metadata": {
    "ExecuteTime": {
     "end_time": "2022-07-21T06:37:02.716972Z",
     "start_time": "2022-07-21T06:37:02.567582Z"
    }
   },
   "outputs": [
    {
     "data": {
      "image/png": "[encoded data removed]",
      "text/plain": [
       "<Figure size 432x288 with 1 Axes>"
      ]
     },
     "metadata": {
      "needs_background": "light"
     },
     "output_type": "display_data"
    }
   ],
   "source": [
    "# ROC curve for SVM classifier\n",
    "plot_ROC(mesa_integration_summary[0], mesa_integration_summary[1])\n"
   ]
  },
  {
   "attachments": {},
   "cell_type": "markdown",
   "id": "bce10e46",
   "metadata": {},
   "source": [
    "## Let's plot them together\n"
   ]
  },
  {
   "attachments": {},
   "cell_type": "markdown",
   "id": "71af71e2",
   "metadata": {},
   "source": [
    "We can see that the prediction accuaracy/AUC increased dramatically as it took informatic features from both datasets after integration(Logistic Regression(LR) as base estimator for example)\n"
   ]
  },
  {
   "cell_type": "code",
   "execution_count": 213,
   "id": "8a82e81e",
   "metadata": {
    "ExecuteTime": {
     "end_time": "2022-07-21T06:41:55.070715Z",
     "start_time": "2022-07-21T06:41:54.886422Z"
    }
   },
   "outputs": [
    {
     "data": {
      "image/png": "[encoded data removed]",
      "text/plain": [
       "<Figure size 432x288 with 1 Axes>"
      ]
     },
     "metadata": {
      "needs_background": "light"
     },
     "output_type": "display_data"
    }
   ],
   "source": [
    "fpr, tpr, _ = roc_curve(mesa_single_summary_1[0], mesa_single_summary_1[1][0])\n",
    "auc = roc_auc_score(mesa_single_summary_1[0], mesa_single_summary_1[1][0])\n",
    "plt.plot(fpr, tpr, label=\"AUC(LR)for dataset1=\" + str(auc))\n",
    "\n",
    "fpr, tpr, _ = roc_curve(mesa_single_summary_2[0], mesa_single_summary_2[1][0])\n",
    "auc = roc_auc_score(mesa_single_summary_2[0], mesa_single_summary_2[1][0])\n",
    "plt.plot(fpr, tpr, label=\"AUC(LR) for dataset2=\" + str(auc))\n",
    "\n",
    "fpr, tpr, _ = roc_curve(mesa_integration_summary[0], mesa_integration_summary[1])\n",
    "auc = roc_auc_score(mesa_integration_summary[0], mesa_integration_summary[1])\n",
    "plt.plot(fpr, tpr, label=\"AUC for integration=\" + str(auc))\n",
    "\n",
    "plt.ylabel(\"True Positive Rate\")\n",
    "plt.xlabel(\"False Positive Rate\")\n",
    "plt.legend(loc=4)\n",
    "plt.show()\n"
   ]
  },
  {
   "cell_type": "code",
   "execution_count": null,
   "id": "c7da6c9d",
   "metadata": {},
   "outputs": [],
   "source": []
  },
  {
   "cell_type": "code",
   "execution_count": null,
   "id": "79a63d30",
   "metadata": {},
   "outputs": [],
   "source": []
  }
 ],
 "metadata": {
  "kernelspec": {
   "display_name": "py38",
   "language": "python",
   "name": "python3"
  },
  "language_info": {
   "codemirror_mode": {
    "name": "ipython",
    "version": 3
   },
   "file_extension": ".py",
   "mimetype": "text/x-python",
   "name": "python",
   "nbconvert_exporter": "python",
   "pygments_lexer": "ipython3",
   "version": "3.8.0"
  },
  "toc": {
   "base_numbering": 1,
   "nav_menu": {},
   "number_sections": true,
   "sideBar": true,
   "skip_h1_title": false,
   "title_cell": "Table of Contents",
   "title_sidebar": "Contents",
   "toc_cell": false,
   "toc_position": {},
   "toc_section_display": true,
   "toc_window_display": false
  },
  "varInspector": {
   "cols": {
    "lenName": 16,
    "lenType": 16,
    "lenVar": 40
   },
   "kernels_config": {
    "python": {
     "delete_cmd_postfix": "",
     "delete_cmd_prefix": "del ",
     "library": "var_list.py",
     "varRefreshCmd": "print(var_dic_list())"
    },
    "r": {
     "delete_cmd_postfix": ") ",
     "delete_cmd_prefix": "rm(",
     "library": "var_list.r",
     "varRefreshCmd": "cat(var_dic_list()) "
    }
   },
   "types_to_exclude": [
    "module",
    "function",
    "builtin_function_or_method",
    "instance",
    "_Feature"
   ],
   "window_display": false
  },
  "vscode": {
   "interpreter": {
    "hash": "54fdf51369e20f2a86e21e41a64cc0b073c477ee58d8721023ae9037e9a672dd"
   }
  }
 },
 "nbformat": 4,
 "nbformat_minor": 5
}
