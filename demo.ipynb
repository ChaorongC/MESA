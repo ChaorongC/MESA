{
 "cells": [
  {
   "cell_type": "markdown",
   "id": "c5f97bf3",
   "metadata": {},
   "source": [
    "# Import"
   ]
  },
  {
   "cell_type": "code",
   "execution_count": 17,
   "id": "dd5d8f66",
   "metadata": {
    "ExecuteTime": {
     "end_time": "2022-07-21T05:35:08.256041Z",
     "start_time": "2022-07-21T05:35:08.253116Z"
    }
   },
   "outputs": [],
   "source": [
    "from MESA import *\n",
    "import matplotlib.pyplot as plt\n",
    "from sklearn.metrics import roc_curve\n",
    "from sklearn.datasets import make_classification"
   ]
  },
  {
   "cell_type": "code",
   "execution_count": 18,
   "id": "f9d7666a",
   "metadata": {
    "ExecuteTime": {
     "end_time": "2022-07-21T05:35:38.844956Z",
     "start_time": "2022-07-21T05:35:38.840722Z"
    }
   },
   "outputs": [],
   "source": [
    "def plot_ROC(y_true, y_pred):\n",
    "    fpr, tpr, _ = roc_curve(y_true, y_pred)\n",
    "    auc = roc_auc_score(y_true, y_pred)\n",
    "    plt.plot(fpr,tpr,label=\"AUC=\"+str(auc))\n",
    "    plt.ylabel('True Positive Rate')\n",
    "    plt.xlabel('False Positive Rate')\n",
    "    plt.legend(loc=4)    \n",
    "    plt.show()"
   ]
  },
  {
   "cell_type": "markdown",
   "id": "6bf3846a",
   "metadata": {},
   "source": [
    "# Create random datasets for testing"
   ]
  },
  {
   "cell_type": "code",
   "execution_count": 62,
   "id": "8e2b5302",
   "metadata": {
    "ExecuteTime": {
     "end_time": "2022-07-21T05:56:30.682691Z",
     "start_time": "2022-07-21T05:56:30.676733Z"
    }
   },
   "outputs": [],
   "source": [
    "dataset1, label = make_classification(n_samples=20,\n",
    "                                    n_features=40,\n",
    "                                    n_informative=30,\n",
    "                                    n_redundant=1,\n",
    "                                    random_state=0,\n",
    "                                    shuffle=False)\n",
    "dataset2, label_ = make_classification(n_samples=20,\n",
    "                                    n_features=40,\n",
    "                                    n_informative=20,\n",
    "                                    n_redundant=8,\n",
    "                                    random_state=0,\n",
    "                                    shuffle=False)"
   ]
  },
  {
   "cell_type": "code",
   "execution_count": 64,
   "id": "43411ba9",
   "metadata": {
    "ExecuteTime": {
     "end_time": "2022-07-21T05:56:38.736764Z",
     "start_time": "2022-07-21T05:56:38.730783Z"
    },
    "code_folding": [],
    "run_control": {
     "marked": false
    }
   },
   "outputs": [],
   "source": [
    "dataset1 = pd.DataFrame(dataset1,columns=['feature_' + str(_) for _ in range(40)],\n",
    "                        index=[('Cancer' if _==1 else 'Normal') for _ in label]).T\n",
    "dataset2 = pd.DataFrame(dataset2,columns=['feature_' + str(_) for _ in range(40)],\n",
    "                        index=[('Cancer' if _==1 else 'Normal') for _ in label]).T"
   ]
  },
  {
   "cell_type": "code",
   "execution_count": 67,
   "id": "a9170964",
   "metadata": {
    "ExecuteTime": {
     "end_time": "2022-07-21T05:56:59.692981Z",
     "start_time": "2022-07-21T05:56:59.671922Z"
    }
   },
   "outputs": [
    {
     "data": {
      "text/html": [
       "<div>\n",
       "<style scoped>\n",
       "    .dataframe tbody tr th:only-of-type {\n",
       "        vertical-align: middle;\n",
       "    }\n",
       "\n",
       "    .dataframe tbody tr th {\n",
       "        vertical-align: top;\n",
       "    }\n",
       "\n",
       "    .dataframe thead th {\n",
       "        text-align: right;\n",
       "    }\n",
       "</style>\n",
       "<table border=\"1\" class=\"dataframe\">\n",
       "  <thead>\n",
       "    <tr style=\"text-align: right;\">\n",
       "      <th></th>\n",
       "      <th>Normal</th>\n",
       "      <th>Normal</th>\n",
       "      <th>Normal</th>\n",
       "      <th>Normal</th>\n",
       "      <th>Normal</th>\n",
       "      <th>Cancer</th>\n",
       "      <th>Cancer</th>\n",
       "      <th>Cancer</th>\n",
       "      <th>Cancer</th>\n",
       "      <th>Cancer</th>\n",
       "      <th>Normal</th>\n",
       "      <th>Normal</th>\n",
       "      <th>Normal</th>\n",
       "      <th>Normal</th>\n",
       "      <th>Normal</th>\n",
       "      <th>Cancer</th>\n",
       "      <th>Cancer</th>\n",
       "      <th>Cancer</th>\n",
       "      <th>Cancer</th>\n",
       "      <th>Cancer</th>\n",
       "    </tr>\n",
       "  </thead>\n",
       "  <tbody>\n",
       "    <tr>\n",
       "      <th>feature_0</th>\n",
       "      <td>-2.657438</td>\n",
       "      <td>0.250462</td>\n",
       "      <td>-6.316733</td>\n",
       "      <td>-0.183008</td>\n",
       "      <td>-3.157091</td>\n",
       "      <td>-0.373797</td>\n",
       "      <td>-1.271039</td>\n",
       "      <td>-1.655216</td>\n",
       "      <td>2.316599</td>\n",
       "      <td>-2.708390</td>\n",
       "      <td>-3.514962</td>\n",
       "      <td>-0.636650</td>\n",
       "      <td>-2.301711</td>\n",
       "      <td>-0.555753</td>\n",
       "      <td>3.657662</td>\n",
       "      <td>0.797684</td>\n",
       "      <td>-1.345706</td>\n",
       "      <td>-4.046547</td>\n",
       "      <td>0.323794</td>\n",
       "      <td>5.727181</td>\n",
       "    </tr>\n",
       "    <tr>\n",
       "      <th>feature_1</th>\n",
       "      <td>-4.047969</td>\n",
       "      <td>0.059135</td>\n",
       "      <td>12.176013</td>\n",
       "      <td>2.180394</td>\n",
       "      <td>-1.959148</td>\n",
       "      <td>7.983654</td>\n",
       "      <td>4.252196</td>\n",
       "      <td>-4.331032</td>\n",
       "      <td>3.810289</td>\n",
       "      <td>0.977776</td>\n",
       "      <td>-0.197668</td>\n",
       "      <td>7.882415</td>\n",
       "      <td>4.299040</td>\n",
       "      <td>-2.233456</td>\n",
       "      <td>1.555099</td>\n",
       "      <td>-1.260301</td>\n",
       "      <td>5.317385</td>\n",
       "      <td>0.997258</td>\n",
       "      <td>4.693458</td>\n",
       "      <td>1.638596</td>\n",
       "    </tr>\n",
       "    <tr>\n",
       "      <th>feature_2</th>\n",
       "      <td>0.336807</td>\n",
       "      <td>2.574391</td>\n",
       "      <td>1.643657</td>\n",
       "      <td>2.056295</td>\n",
       "      <td>-2.111729</td>\n",
       "      <td>-3.422055</td>\n",
       "      <td>-1.489284</td>\n",
       "      <td>-0.688571</td>\n",
       "      <td>-0.449130</td>\n",
       "      <td>-1.067020</td>\n",
       "      <td>-0.043363</td>\n",
       "      <td>-0.856425</td>\n",
       "      <td>-1.341088</td>\n",
       "      <td>1.084733</td>\n",
       "      <td>6.465461</td>\n",
       "      <td>1.609761</td>\n",
       "      <td>2.851012</td>\n",
       "      <td>6.886433</td>\n",
       "      <td>-5.484811</td>\n",
       "      <td>0.894754</td>\n",
       "    </tr>\n",
       "    <tr>\n",
       "      <th>feature_3</th>\n",
       "      <td>2.617077</td>\n",
       "      <td>1.375779</td>\n",
       "      <td>2.223775</td>\n",
       "      <td>1.451959</td>\n",
       "      <td>1.754885</td>\n",
       "      <td>4.093960</td>\n",
       "      <td>3.859569</td>\n",
       "      <td>0.435443</td>\n",
       "      <td>4.673766</td>\n",
       "      <td>1.010637</td>\n",
       "      <td>2.421923</td>\n",
       "      <td>5.816843</td>\n",
       "      <td>-3.427341</td>\n",
       "      <td>-5.362654</td>\n",
       "      <td>0.817183</td>\n",
       "      <td>-0.067298</td>\n",
       "      <td>-6.467959</td>\n",
       "      <td>-6.892887</td>\n",
       "      <td>-1.956304</td>\n",
       "      <td>0.193378</td>\n",
       "    </tr>\n",
       "    <tr>\n",
       "      <th>feature_4</th>\n",
       "      <td>-8.929103</td>\n",
       "      <td>5.587176</td>\n",
       "      <td>-1.891227</td>\n",
       "      <td>7.925671</td>\n",
       "      <td>0.886867</td>\n",
       "      <td>3.427853</td>\n",
       "      <td>8.519712</td>\n",
       "      <td>-3.558961</td>\n",
       "      <td>1.644851</td>\n",
       "      <td>-0.283583</td>\n",
       "      <td>1.569537</td>\n",
       "      <td>0.003211</td>\n",
       "      <td>-1.846819</td>\n",
       "      <td>1.642075</td>\n",
       "      <td>-5.320329</td>\n",
       "      <td>-0.843546</td>\n",
       "      <td>-5.943937</td>\n",
       "      <td>-3.330491</td>\n",
       "      <td>-0.213274</td>\n",
       "      <td>4.349994</td>\n",
       "    </tr>\n",
       "  </tbody>\n",
       "</table>\n",
       "</div>"
      ],
      "text/plain": [
       "             Normal    Normal     Normal    Normal    Normal    Cancer  \\\n",
       "feature_0 -2.657438  0.250462  -6.316733 -0.183008 -3.157091 -0.373797   \n",
       "feature_1 -4.047969  0.059135  12.176013  2.180394 -1.959148  7.983654   \n",
       "feature_2  0.336807  2.574391   1.643657  2.056295 -2.111729 -3.422055   \n",
       "feature_3  2.617077  1.375779   2.223775  1.451959  1.754885  4.093960   \n",
       "feature_4 -8.929103  5.587176  -1.891227  7.925671  0.886867  3.427853   \n",
       "\n",
       "             Cancer    Cancer    Cancer    Cancer    Normal    Normal  \\\n",
       "feature_0 -1.271039 -1.655216  2.316599 -2.708390 -3.514962 -0.636650   \n",
       "feature_1  4.252196 -4.331032  3.810289  0.977776 -0.197668  7.882415   \n",
       "feature_2 -1.489284 -0.688571 -0.449130 -1.067020 -0.043363 -0.856425   \n",
       "feature_3  3.859569  0.435443  4.673766  1.010637  2.421923  5.816843   \n",
       "feature_4  8.519712 -3.558961  1.644851 -0.283583  1.569537  0.003211   \n",
       "\n",
       "             Normal    Normal    Normal    Cancer    Cancer    Cancer  \\\n",
       "feature_0 -2.301711 -0.555753  3.657662  0.797684 -1.345706 -4.046547   \n",
       "feature_1  4.299040 -2.233456  1.555099 -1.260301  5.317385  0.997258   \n",
       "feature_2 -1.341088  1.084733  6.465461  1.609761  2.851012  6.886433   \n",
       "feature_3 -3.427341 -5.362654  0.817183 -0.067298 -6.467959 -6.892887   \n",
       "feature_4 -1.846819  1.642075 -5.320329 -0.843546 -5.943937 -3.330491   \n",
       "\n",
       "             Cancer    Cancer  \n",
       "feature_0  0.323794  5.727181  \n",
       "feature_1  4.693458  1.638596  \n",
       "feature_2 -5.484811  0.894754  \n",
       "feature_3 -1.956304  0.193378  \n",
       "feature_4 -0.213274  4.349994  "
      ]
     },
     "execution_count": 67,
     "metadata": {},
     "output_type": "execute_result"
    }
   ],
   "source": [
    "dataset1.head()"
   ]
  },
  {
   "cell_type": "code",
   "execution_count": 68,
   "id": "0b4573bc",
   "metadata": {
    "ExecuteTime": {
     "end_time": "2022-07-21T05:57:00.729050Z",
     "start_time": "2022-07-21T05:57:00.709843Z"
    },
    "scrolled": true
   },
   "outputs": [
    {
     "data": {
      "text/html": [
       "<div>\n",
       "<style scoped>\n",
       "    .dataframe tbody tr th:only-of-type {\n",
       "        vertical-align: middle;\n",
       "    }\n",
       "\n",
       "    .dataframe tbody tr th {\n",
       "        vertical-align: top;\n",
       "    }\n",
       "\n",
       "    .dataframe thead th {\n",
       "        text-align: right;\n",
       "    }\n",
       "</style>\n",
       "<table border=\"1\" class=\"dataframe\">\n",
       "  <thead>\n",
       "    <tr style=\"text-align: right;\">\n",
       "      <th></th>\n",
       "      <th>Normal</th>\n",
       "      <th>Normal</th>\n",
       "      <th>Normal</th>\n",
       "      <th>Normal</th>\n",
       "      <th>Normal</th>\n",
       "      <th>Cancer</th>\n",
       "      <th>Cancer</th>\n",
       "      <th>Cancer</th>\n",
       "      <th>Cancer</th>\n",
       "      <th>Cancer</th>\n",
       "      <th>Normal</th>\n",
       "      <th>Normal</th>\n",
       "      <th>Normal</th>\n",
       "      <th>Normal</th>\n",
       "      <th>Normal</th>\n",
       "      <th>Cancer</th>\n",
       "      <th>Cancer</th>\n",
       "      <th>Cancer</th>\n",
       "      <th>Cancer</th>\n",
       "      <th>Cancer</th>\n",
       "    </tr>\n",
       "  </thead>\n",
       "  <tbody>\n",
       "    <tr>\n",
       "      <th>feature_0</th>\n",
       "      <td>-0.602556</td>\n",
       "      <td>3.643032</td>\n",
       "      <td>3.037892</td>\n",
       "      <td>-1.109481</td>\n",
       "      <td>2.385997</td>\n",
       "      <td>-5.984252</td>\n",
       "      <td>-2.916217</td>\n",
       "      <td>1.923783</td>\n",
       "      <td>-0.342886</td>\n",
       "      <td>-0.208612</td>\n",
       "      <td>1.133495</td>\n",
       "      <td>0.177237</td>\n",
       "      <td>0.658569</td>\n",
       "      <td>0.143992</td>\n",
       "      <td>-2.691958</td>\n",
       "      <td>-2.962459</td>\n",
       "      <td>1.106371</td>\n",
       "      <td>-0.519772</td>\n",
       "      <td>-2.737600</td>\n",
       "      <td>2.896222</td>\n",
       "    </tr>\n",
       "    <tr>\n",
       "      <th>feature_1</th>\n",
       "      <td>5.912015</td>\n",
       "      <td>4.584149</td>\n",
       "      <td>0.131728</td>\n",
       "      <td>-2.882158</td>\n",
       "      <td>5.968676</td>\n",
       "      <td>2.285868</td>\n",
       "      <td>-0.926496</td>\n",
       "      <td>1.840909</td>\n",
       "      <td>-0.130376</td>\n",
       "      <td>-1.320260</td>\n",
       "      <td>3.914576</td>\n",
       "      <td>-1.048612</td>\n",
       "      <td>5.839853</td>\n",
       "      <td>2.979434</td>\n",
       "      <td>2.506142</td>\n",
       "      <td>-0.443105</td>\n",
       "      <td>1.252658</td>\n",
       "      <td>-1.382861</td>\n",
       "      <td>-4.003773</td>\n",
       "      <td>-3.995266</td>\n",
       "    </tr>\n",
       "    <tr>\n",
       "      <th>feature_2</th>\n",
       "      <td>-3.712827</td>\n",
       "      <td>2.349710</td>\n",
       "      <td>-1.674970</td>\n",
       "      <td>6.494007</td>\n",
       "      <td>-0.958747</td>\n",
       "      <td>-4.429147</td>\n",
       "      <td>-2.819524</td>\n",
       "      <td>-1.717120</td>\n",
       "      <td>-0.549012</td>\n",
       "      <td>-0.380938</td>\n",
       "      <td>-2.246815</td>\n",
       "      <td>2.602718</td>\n",
       "      <td>-1.787210</td>\n",
       "      <td>2.916498</td>\n",
       "      <td>3.777609</td>\n",
       "      <td>-0.087982</td>\n",
       "      <td>0.793247</td>\n",
       "      <td>-4.773273</td>\n",
       "      <td>-0.976853</td>\n",
       "      <td>-3.822507</td>\n",
       "    </tr>\n",
       "    <tr>\n",
       "      <th>feature_3</th>\n",
       "      <td>-0.249867</td>\n",
       "      <td>-2.310414</td>\n",
       "      <td>0.478615</td>\n",
       "      <td>0.945218</td>\n",
       "      <td>-2.274545</td>\n",
       "      <td>1.600593</td>\n",
       "      <td>-2.064119</td>\n",
       "      <td>1.653003</td>\n",
       "      <td>1.510509</td>\n",
       "      <td>0.423255</td>\n",
       "      <td>-1.516784</td>\n",
       "      <td>-1.658048</td>\n",
       "      <td>-1.392895</td>\n",
       "      <td>-1.889464</td>\n",
       "      <td>1.077493</td>\n",
       "      <td>3.039729</td>\n",
       "      <td>-7.109191</td>\n",
       "      <td>-1.954977</td>\n",
       "      <td>4.625182</td>\n",
       "      <td>-3.502716</td>\n",
       "    </tr>\n",
       "    <tr>\n",
       "      <th>feature_4</th>\n",
       "      <td>-2.576757</td>\n",
       "      <td>3.888342</td>\n",
       "      <td>2.090072</td>\n",
       "      <td>-3.132203</td>\n",
       "      <td>-2.847686</td>\n",
       "      <td>-1.642812</td>\n",
       "      <td>2.669854</td>\n",
       "      <td>-2.681256</td>\n",
       "      <td>1.341412</td>\n",
       "      <td>5.071602</td>\n",
       "      <td>-1.507957</td>\n",
       "      <td>3.669974</td>\n",
       "      <td>-2.416891</td>\n",
       "      <td>4.494471</td>\n",
       "      <td>4.878578</td>\n",
       "      <td>0.287927</td>\n",
       "      <td>-0.834164</td>\n",
       "      <td>2.106695</td>\n",
       "      <td>-0.603902</td>\n",
       "      <td>0.547497</td>\n",
       "    </tr>\n",
       "  </tbody>\n",
       "</table>\n",
       "</div>"
      ],
      "text/plain": [
       "             Normal    Normal    Normal    Normal    Normal    Cancer  \\\n",
       "feature_0 -0.602556  3.643032  3.037892 -1.109481  2.385997 -5.984252   \n",
       "feature_1  5.912015  4.584149  0.131728 -2.882158  5.968676  2.285868   \n",
       "feature_2 -3.712827  2.349710 -1.674970  6.494007 -0.958747 -4.429147   \n",
       "feature_3 -0.249867 -2.310414  0.478615  0.945218 -2.274545  1.600593   \n",
       "feature_4 -2.576757  3.888342  2.090072 -3.132203 -2.847686 -1.642812   \n",
       "\n",
       "             Cancer    Cancer    Cancer    Cancer    Normal    Normal  \\\n",
       "feature_0 -2.916217  1.923783 -0.342886 -0.208612  1.133495  0.177237   \n",
       "feature_1 -0.926496  1.840909 -0.130376 -1.320260  3.914576 -1.048612   \n",
       "feature_2 -2.819524 -1.717120 -0.549012 -0.380938 -2.246815  2.602718   \n",
       "feature_3 -2.064119  1.653003  1.510509  0.423255 -1.516784 -1.658048   \n",
       "feature_4  2.669854 -2.681256  1.341412  5.071602 -1.507957  3.669974   \n",
       "\n",
       "             Normal    Normal    Normal    Cancer    Cancer    Cancer  \\\n",
       "feature_0  0.658569  0.143992 -2.691958 -2.962459  1.106371 -0.519772   \n",
       "feature_1  5.839853  2.979434  2.506142 -0.443105  1.252658 -1.382861   \n",
       "feature_2 -1.787210  2.916498  3.777609 -0.087982  0.793247 -4.773273   \n",
       "feature_3 -1.392895 -1.889464  1.077493  3.039729 -7.109191 -1.954977   \n",
       "feature_4 -2.416891  4.494471  4.878578  0.287927 -0.834164  2.106695   \n",
       "\n",
       "             Cancer    Cancer  \n",
       "feature_0 -2.737600  2.896222  \n",
       "feature_1 -4.003773 -3.995266  \n",
       "feature_2 -0.976853 -3.822507  \n",
       "feature_3  4.625182 -3.502716  \n",
       "feature_4 -0.603902  0.547497  "
      ]
     },
     "execution_count": 68,
     "metadata": {},
     "output_type": "execute_result"
    }
   ],
   "source": [
    "dataset2.head()"
   ]
  },
  {
   "cell_type": "markdown",
   "id": "1794d8d7",
   "metadata": {},
   "source": [
    "# Run MESA"
   ]
  },
  {
   "cell_type": "markdown",
   "id": "80ce45e0",
   "metadata": {},
   "source": [
    "## Single modality"
   ]
  },
  {
   "cell_type": "code",
   "execution_count": 69,
   "id": "8b981bf9",
   "metadata": {
    "ExecuteTime": {
     "end_time": "2022-07-21T05:57:05.526873Z",
     "start_time": "2022-07-21T05:57:05.522995Z"
    },
    "run_control": {
     "marked": false
    }
   },
   "outputs": [],
   "source": [
    "random_state = 0\n",
    "# Train-test split inside SBS\n",
    "cv_sbs = StratifiedKFold(n_splits=3, random_state=random_state, shuffle=True)\n",
    "# Classifiers used for final evaluation on test sets\n",
    "svm = SVC(kernel=\"linear\", random_state=random_state, probability=True)\n",
    "rf = RandomForestClassifier(random_state=random_state, n_jobs=-1)"
   ]
  },
  {
   "cell_type": "code",
   "execution_count": 70,
   "id": "3debdcdf",
   "metadata": {
    "ExecuteTime": {
     "end_time": "2022-07-21T06:05:43.013124Z",
     "start_time": "2022-07-21T05:57:20.087340Z"
    }
   },
   "outputs": [
    {
     "name": "stdout",
     "output_type": "stream",
     "text": [
      "=============== No. 1  LOO iteration ===============\n",
      "Best combination: (27, 9, 36, 29, 6, 19, 37, 39, 14, 31, 35, 8, 28, 22, 33, 23, 1, 3, 17, 38, 2, 13, 32, 21, 10)\n",
      "Best score: 1.0\n",
      "Best dimension: 25\n",
      "=============== No. 2  LOO iteration ===============\n",
      "Best combination: (39, 27, 36, 9, 7, 37, 22, 20, 15, 19, 13, 8, 6, 31, 35, 23, 29, 3, 38, 17, 34, 21, 2, 0, 4)\n",
      "Best score: 1.0\n",
      "Best dimension: 25\n",
      "=============== No. 3  LOO iteration ===============\n",
      "Best combination: (27, 20, 36, 9, 30, 39, 7, 22, 37, 33, 23, 35, 8, 6, 3, 29, 15, 38, 13, 1, 24, 31, 32, 19, 11)\n",
      "Best score: 1.0\n",
      "Best dimension: 25\n",
      "=============== No. 4  LOO iteration ===============\n",
      "Best combination: (27, 36, 8, 9, 20, 7, 30, 22, 6, 37, 39, 28, 15, 31, 3, 29, 0, 19, 35, 33, 23, 17, 1, 32, 13)\n",
      "Best score: 1.0\n",
      "Best dimension: 25\n",
      "=============== No. 5  LOO iteration ===============\n",
      "Best combination: (27, 9, 36, 20, 30, 8, 37, 39, 7, 6, 22, 29, 35, 28, 2, 3, 23, 15, 31, 17, 19, 25, 13, 10, 12)\n",
      "Best score: 1.0\n",
      "Best dimension: 25\n",
      "=============== No. 6  LOO iteration ===============\n",
      "Best combination: (27, 37, 36, 8, 9, 20, 30, 14, 7, 3, 35, 6, 39, 31, 19, 32, 33, 22, 13, 28, 0, 23, 17, 4, 16)\n",
      "Best score: 0.9259259259259259\n",
      "Best dimension: 25\n",
      "=============== No. 7  LOO iteration ===============\n",
      "Best combination: (36, 27, 20, 9, 7, 28, 37, 3, 39, 32, 22, 19, 6, 8, 0, 13, 38, 35, 5, 23, 25, 31, 14, 17, 33)\n",
      "Best score: 1.0\n",
      "Best dimension: 25\n",
      "=============== No. 8  LOO iteration ===============\n",
      "Best combination: (20, 27, 9, 36, 37, 7, 14, 22, 39, 8, 31, 6, 3, 29, 10, 15, 0, 17, 1, 35, 13, 28, 33, 23, 24)\n",
      "Best score: 1.0\n",
      "Best dimension: 25\n",
      "=============== No. 9  LOO iteration ===============\n",
      "Best combination: (36, 27, 7, 9, 37, 20, 39, 14, 22, 15, 3, 6, 35, 8, 31, 13, 32, 23, 19, 33, 38, 5, 17, 2, 34)\n",
      "Best score: 1.0\n",
      "Best dimension: 25\n",
      "=============== No. 10  LOO iteration ===============\n",
      "Best combination: (9, 27, 39, 37, 7, 15, 36, 20, 8, 3, 6, 32, 31, 28, 22, 19, 17, 38, 23, 34, 29, 0, 21, 13, 2)\n",
      "Best score: 1.0\n",
      "Best dimension: 25\n",
      "=============== No. 11  LOO iteration ===============\n",
      "Best combination: (37, 27, 20, 30, 36, 9, 8, 39, 7, 15, 35, 6, 28, 33, 3, 2, 31, 24, 23, 25, 0, 32, 13, 16, 12)\n",
      "Best score: 1.0\n",
      "Best dimension: 25\n",
      "=============== No. 12  LOO iteration ===============\n",
      "Best combination: (27, 36, 9, 7, 22, 20, 15, 8, 37, 39, 35, 6, 3, 1, 32, 23, 2, 24, 31, 13, 28, 10, 25, 18, 5)\n",
      "Best score: 1.0\n",
      "Best dimension: 25\n",
      "=============== No. 13  LOO iteration ===============\n",
      "Best combination: (27, 20, 30, 9, 36, 39, 37, 7, 6, 3, 33, 31, 15, 2, 35, 24, 22, 8, 18, 32, 5, 14, 28, 23, 13)\n",
      "Best score: 1.0\n",
      "Best dimension: 25\n",
      "=============== No. 14  LOO iteration ===============\n",
      "Best combination: (27, 30, 9, 36, 7, 33, 19, 31, 3, 37, 15, 39, 13, 6, 35, 29, 22, 28, 38, 32, 25, 24, 0, 10, 5)\n",
      "Best score: 1.0\n",
      "Best dimension: 25\n",
      "=============== No. 15  LOO iteration ===============\n",
      "Best combination: (36, 27, 9, 20, 37, 14, 39, 35, 15, 22, 7, 33, 3, 8, 28, 6, 17, 0, 2, 34, 31, 25, 13, 5, 1)\n",
      "Best score: 1.0\n",
      "Best dimension: 25\n",
      "=============== No. 16  LOO iteration ===============\n",
      "Best combination: (27, 20, 37, 36, 30, 7, 9, 6, 19, 39, 2, 1, 33, 8, 22, 14, 35, 28, 34, 29, 21, 24, 17, 25, 3)\n",
      "Best score: 1.0\n",
      "Best dimension: 25\n",
      "=============== No. 17  LOO iteration ===============\n",
      "Best combination: (36, 27, 9, 7, 20, 31, 28, 39, 29, 37, 19, 15, 6, 34, 2, 8, 33, 35, 22, 25, 10, 17, 24, 13, 3)\n",
      "Best score: 1.0\n",
      "Best dimension: 25\n",
      "=============== No. 18  LOO iteration ===============\n",
      "Best combination: (27, 9, 36, 20, 19, 39, 31, 8, 35, 2, 13, 33, 28, 23, 15, 32, 14, 3, 6, 0, 22, 11, 37, 12, 16)\n",
      "Best score: 1.0\n",
      "Best dimension: 25\n",
      "=============== No. 19  LOO iteration ===============\n",
      "Best combination: (27, 20, 39, 36, 9, 30, 37, 28, 7, 6, 22, 8, 14, 19, 23, 15, 35, 31, 12, 33, 21, 16, 34, 10, 17)\n",
      "Best score: 0.9259259259259259\n",
      "Best dimension: 25\n",
      "=============== No. 20  LOO iteration ===============\n",
      "Best combination: (27, 37, 36, 9, 7, 8, 39, 22, 20, 28, 6, 14, 15, 35, 23, 24, 11, 33, 34, 32, 10, 31, 3, 0, 16)\n",
      "Best score: 1.0\n",
      "Best dimension: 25\n"
     ]
    }
   ],
   "source": [
    "mesa_result_1 = MESA_single(\n",
    "    X=dataset1,\n",
    "    y=label,\n",
    "    estimator=svm,\n",
    "    cv=cv_sbs,\n",
    "    classifiers=[svm, rf],\n",
    "    min_feature=25,\n",
    "    boruta_top_n_feature=30,\n",
    ")"
   ]
  },
  {
   "cell_type": "code",
   "execution_count": 79,
   "id": "b00f2ef9",
   "metadata": {
    "ExecuteTime": {
     "end_time": "2022-07-21T06:14:28.221468Z",
     "start_time": "2022-07-21T06:14:28.218144Z"
    }
   },
   "outputs": [
    {
     "name": "stdout",
     "output_type": "stream",
     "text": [
      "AUC of dataset 1[SVM, RF]: [0.76, 0.7849999999999999]\n"
     ]
    }
   ],
   "source": [
    "#AUC\n",
    "print('AUC of dataset 1[SVM, RF]: %s' % mesa_result_1[-1])"
   ]
  },
  {
   "cell_type": "code",
   "execution_count": 80,
   "id": "02ff2116",
   "metadata": {
    "ExecuteTime": {
     "end_time": "2022-07-21T06:14:30.732904Z",
     "start_time": "2022-07-21T06:14:30.464304Z"
    }
   },
   "outputs": [
    {
     "data": {
      "image/png": "[encoded data removed]",
      "text/plain": [
       "<Figure size 432x288 with 1 Axes>"
      ]
     },
     "metadata": {
      "needs_background": "light"
     },
     "output_type": "display_data"
    },
    {
     "data": {
      "image/png": "[encoded data removed]",
      "text/plain": [
       "<Figure size 432x288 with 1 Axes>"
      ]
     },
     "metadata": {
      "needs_background": "light"
     },
     "output_type": "display_data"
    }
   ],
   "source": [
    "# ROC curve for SVM classifier\n",
    "plot_ROC(mesa_result_1[1],mesa_result_1[2][0])\n",
    "# ROC curve for RandomForest classifier\n",
    "plot_ROC(mesa_result_1[1],mesa_result_1[2][1])"
   ]
  },
  {
   "cell_type": "code",
   "execution_count": 73,
   "id": "d650c01b",
   "metadata": {
    "ExecuteTime": {
     "end_time": "2022-07-21T06:14:09.944487Z",
     "start_time": "2022-07-21T06:05:45.961149Z"
    },
    "scrolled": false
   },
   "outputs": [
    {
     "name": "stdout",
     "output_type": "stream",
     "text": [
      "=============== No. 1  LOO iteration ===============\n",
      "Best combination: (1, 17, 8, 31, 26, 15, 24, 33, 9, 2, 35, 23, 20, 3, 36, 37, 28, 19, 21, 0, 32, 10, 30, 27, 25)\n",
      "Best score: 1.0\n",
      "Best dimension: 25\n",
      "=============== No. 2  LOO iteration ===============\n",
      "Best combination: (31, 1, 17, 9, 8, 33, 26, 3, 32, 15, 2, 19, 36, 35, 12, 24, 20, 23, 38, 30, 21, 28, 0, 10, 13)\n",
      "Best score: 0.9259259259259259\n",
      "Best dimension: 25\n",
      "=============== No. 3  LOO iteration ===============\n",
      "Best combination: (1, 23, 17, 31, 9, 8, 33, 36, 2, 3, 35, 19, 15, 24, 4, 30, 28, 29, 6, 38, 10, 12, 7, 25, 37)\n",
      "Best score: 1.0\n",
      "Best dimension: 25\n",
      "=============== No. 4  LOO iteration ===============\n",
      "Best combination: (1, 31, 17, 9, 23, 24, 19, 28, 32, 3, 8, 36, 35, 15, 2, 37, 33, 30, 38, 20, 7, 6, 4, 12, 39)\n",
      "Best score: 0.9629629629629629\n",
      "Best dimension: 25\n",
      "=============== No. 5  LOO iteration ===============\n",
      "Best combination: (1, 17, 2, 23, 31, 9, 26, 33, 35, 12, 15, 36, 19, 24, 8, 3, 30, 0, 7, 37, 4, 38, 13, 20, 5)\n",
      "Best score: 0.9259259259259259\n",
      "Best dimension: 25\n",
      "=============== No. 6  LOO iteration ===============\n",
      "Best combination: (1, 31, 17, 8, 23, 9, 26, 19, 36, 2, 20, 15, 35, 33, 32, 3, 24, 37, 21, 38, 4, 10, 7, 34, 30)\n",
      "Best score: 0.8796296296296297\n",
      "Best dimension: 25\n",
      "=============== No. 7  LOO iteration ===============\n",
      "Best combination: (1, 9, 3, 23, 31, 17, 19, 26, 15, 8, 2, 35, 36, 20, 30, 33, 32, 24, 38, 37, 28, 12, 10, 14, 6)\n",
      "Best score: 0.9166666666666666\n",
      "Best dimension: 25\n",
      "=============== No. 8  LOO iteration ===============\n",
      "Best combination: (1, 9, 3, 31, 8, 23, 0, 2, 35, 36, 25, 19, 15, 13, 37, 4, 32, 22, 12, 28, 14, 24, 10, 27, 33)\n",
      "Best score: 1.0\n",
      "Best dimension: 25\n",
      "=============== No. 9  LOO iteration ===============\n",
      "Best combination: (1, 31, 9, 17, 26, 3, 19, 36, 8, 23, 2, 20, 35, 15, 24, 0, 25, 33, 37, 10, 21, 7, 16, 5, 13)\n",
      "Best score: 0.9166666666666666\n",
      "Best dimension: 25\n",
      "=============== No. 10  LOO iteration ===============\n",
      "Best combination: (1, 31, 17, 3, 23, 2, 15, 26, 8, 33, 36, 19, 35, 25, 22, 37, 0, 27, 13, 7, 34, 12, 10, 4, 21)\n",
      "Best score: 0.9722222222222222\n",
      "Best dimension: 25\n",
      "=============== No. 11  LOO iteration ===============\n",
      "Best combination: (1, 17, 31, 23, 19, 2, 9, 35, 8, 26, 12, 3, 36, 24, 32, 0, 15, 13, 20, 27, 33, 37, 38, 6, 30)\n",
      "Best score: 0.9259259259259259\n",
      "Best dimension: 25\n",
      "=============== No. 12  LOO iteration ===============\n",
      "Best combination: (1, 23, 9, 26, 31, 35, 17, 33, 20, 0, 3, 36, 25, 8, 4, 2, 37, 38, 32, 15, 12, 21, 6, 7, 34)\n",
      "Best score: 0.8425925925925926\n",
      "Best dimension: 25\n",
      "=============== No. 13  LOO iteration ===============\n",
      "Best combination: (9, 1, 31, 17, 26, 2, 35, 15, 36, 23, 3, 8, 12, 24, 25, 13, 28, 20, 0, 33, 38, 37, 34, 14, 21)\n",
      "Best score: 0.888888888888889\n",
      "Best dimension: 25\n",
      "=============== No. 14  LOO iteration ===============\n",
      "Best combination: (1, 9, 31, 35, 33, 36, 17, 26, 25, 20, 23, 8, 12, 2, 3, 0, 4, 19, 13, 37, 32, 28, 14, 30, 27)\n",
      "Best score: 0.9629629629629629\n",
      "Best dimension: 25\n",
      "=============== No. 15  LOO iteration ===============\n",
      "Best combination: (1, 31, 17, 12, 9, 25, 35, 23, 36, 26, 0, 2, 15, 20, 13, 28, 38, 33, 19, 34, 4, 37, 5, 27, 14)\n",
      "Best score: 1.0\n",
      "Best dimension: 25\n",
      "=============== No. 16  LOO iteration ===============\n",
      "Best combination: (1, 9, 17, 36, 35, 31, 2, 23, 3, 15, 28, 8, 25, 24, 33, 32, 0, 37, 30, 6, 16, 38, 13, 34, 27)\n",
      "Best score: 0.9629629629629629\n",
      "Best dimension: 25\n",
      "=============== No. 17  LOO iteration ===============\n",
      "Best combination: (1, 36, 31, 2, 3, 9, 0, 35, 17, 15, 23, 28, 25, 8, 33, 19, 32, 24, 37, 21, 12, 13, 30, 38, 7)\n",
      "Best score: 1.0\n",
      "Best dimension: 25\n",
      "=============== No. 18  LOO iteration ===============\n",
      "Best combination: (1, 31, 17, 35, 2, 15, 36, 8, 26, 0, 23, 33, 25, 39, 32, 37, 19, 20, 28, 24, 4, 12, 38, 6, 13)\n",
      "Best score: 0.9722222222222222\n",
      "Best dimension: 25\n",
      "=============== No. 19  LOO iteration ===============\n",
      "Best combination: (1, 31, 17, 23, 8, 9, 19, 36, 2, 3, 28, 26, 37, 15, 35, 20, 12, 33, 24, 0, 34, 32, 13, 30, 11)\n",
      "Best score: 0.8981481481481483\n",
      "Best dimension: 25\n",
      "=============== No. 20  LOO iteration ===============\n",
      "Best combination: (1, 31, 12, 23, 17, 3, 0, 36, 26, 2, 28, 35, 8, 25, 19, 33, 32, 13, 38, 24, 37, 27, 6, 20, 15)\n",
      "Best score: 0.7962962962962963\n",
      "Best dimension: 25\n"
     ]
    }
   ],
   "source": [
    "mesa_result_2 = MESA_single(\n",
    "    X=dataset2,\n",
    "    y=label,\n",
    "    estimator=svm,\n",
    "    cv=cv_sbs,\n",
    "    classifiers=[svm, rf],\n",
    "    min_feature=25,\n",
    "    boruta_top_n_feature=30,\n",
    ")"
   ]
  },
  {
   "cell_type": "code",
   "execution_count": 81,
   "id": "a1fa234a",
   "metadata": {
    "ExecuteTime": {
     "end_time": "2022-07-21T06:14:35.534956Z",
     "start_time": "2022-07-21T06:14:35.531580Z"
    }
   },
   "outputs": [
    {
     "name": "stdout",
     "output_type": "stream",
     "text": [
      "AUC of dataset 2 [SVM, RF]: [0.67, 0.665]\n"
     ]
    }
   ],
   "source": [
    "#AUC\n",
    "print('AUC of dataset 2 [SVM, RF]: %s' % mesa_result_2[-1])"
   ]
  },
  {
   "cell_type": "code",
   "execution_count": 82,
   "id": "347a2ded",
   "metadata": {
    "ExecuteTime": {
     "end_time": "2022-07-21T06:14:36.803090Z",
     "start_time": "2022-07-21T06:14:36.552988Z"
    }
   },
   "outputs": [
    {
     "data": {
      "image/png": "[encoded data removed]",
      "text/plain": [
       "<Figure size 432x288 with 1 Axes>"
      ]
     },
     "metadata": {
      "needs_background": "light"
     },
     "output_type": "display_data"
    },
    {
     "data": {
      "image/png": "[encoded data removed]",
      "text/plain": [
       "<Figure size 432x288 with 1 Axes>"
      ]
     },
     "metadata": {
      "needs_background": "light"
     },
     "output_type": "display_data"
    }
   ],
   "source": [
    "# ROC curve for SVM classifier\n",
    "plot_ROC(mesa_result_2[1],mesa_result_2[2][0])\n",
    "# ROC curve for RandomForest classifier\n",
    "plot_ROC(mesa_result_2[1],mesa_result_2[2][1])"
   ]
  },
  {
   "cell_type": "markdown",
   "id": "d15301fa",
   "metadata": {},
   "source": [
    "## Multimodality"
   ]
  },
  {
   "cell_type": "code",
   "execution_count": 76,
   "id": "ae484859",
   "metadata": {
    "ExecuteTime": {
     "end_time": "2022-07-21T06:14:18.428546Z",
     "start_time": "2022-07-21T06:14:12.642122Z"
    }
   },
   "outputs": [],
   "source": [
    "mesa_multimodal = MESA_integration(\n",
    "    X_list=[dataset1, dataset2],\n",
    "    y=label,\n",
    "    feature_selected=[mesa_result_1[0], mesa_result_2[0]],\n",
    "    classifiers=[svm, rf]\n",
    ")"
   ]
  },
  {
   "cell_type": "code",
   "execution_count": 77,
   "id": "163e9d7f",
   "metadata": {
    "ExecuteTime": {
     "end_time": "2022-07-21T06:14:19.365611Z",
     "start_time": "2022-07-21T06:14:19.362737Z"
    }
   },
   "outputs": [
    {
     "name": "stdout",
     "output_type": "stream",
     "text": [
      "AUC of multimodal integration: [0.9, 0.72]\n"
     ]
    }
   ],
   "source": [
    "# Multimodal AUC\n",
    "#AUC\n",
    "print('AUC of multimodal integration [SVM, RF]: %s' % mesa_multimodal[-1])"
   ]
  },
  {
   "cell_type": "code",
   "execution_count": 85,
   "id": "43db0a96",
   "metadata": {
    "ExecuteTime": {
     "end_time": "2022-07-21T06:37:02.716972Z",
     "start_time": "2022-07-21T06:37:02.567582Z"
    }
   },
   "outputs": [
    {
     "data": {
      "image/png": "[encoded data removed]",
      "text/plain": [
       "<Figure size 432x288 with 1 Axes>"
      ]
     },
     "metadata": {
      "needs_background": "light"
     },
     "output_type": "display_data"
    }
   ],
   "source": [
    "# ROC curve for SVM classifier\n",
    "plot_ROC(mesa_multimodal[0],mesa_multimodal[1][0])\n",
    "# ROC curve for RandomForest classifier\n",
    "#plot_ROC(mesa_multimodal[0],mesa_multimodal[1][1])"
   ]
  },
  {
   "cell_type": "markdown",
   "id": "5dc744d4",
   "metadata": {},
   "source": [
    "## Let's plot them together"
   ]
  },
  {
   "cell_type": "markdown",
   "id": "5b9e9949",
   "metadata": {},
   "source": [
    "We can see that the prediction accuaracy/AUC increased dramatically as it took informatic features from both datasets after integration"
   ]
  },
  {
   "cell_type": "code",
   "execution_count": 90,
   "id": "7ae61485",
   "metadata": {
    "ExecuteTime": {
     "end_time": "2022-07-21T06:41:55.070715Z",
     "start_time": "2022-07-21T06:41:54.886422Z"
    }
   },
   "outputs": [
    {
     "data": {
      "image/png": "[encoded data removed]",
      "text/plain": [
       "<Figure size 432x288 with 1 Axes>"
      ]
     },
     "metadata": {
      "needs_background": "light"
     },
     "output_type": "display_data"
    }
   ],
   "source": [
    "fpr, tpr, _ = roc_curve(mesa_result_1[1],mesa_result_1[2][0])\n",
    "auc = roc_auc_score(mesa_result_1[1],mesa_result_1[2][0])\n",
    "plt.plot(fpr,tpr,label=\"AUC for dataset1=\"+str(auc))\n",
    "\n",
    "fpr, tpr, _ = roc_curve(mesa_result_2[1],mesa_result_2[2][0])\n",
    "auc = roc_auc_score(mesa_result_2[1],mesa_result_2[2][0])\n",
    "plt.plot(fpr,tpr,label=\"AUC for dataset2=\"+str(auc))\n",
    "\n",
    "fpr, tpr, _ = roc_curve(mesa_multimodal[0],mesa_multimodal[1][0])\n",
    "auc = roc_auc_score(mesa_multimodal[0],mesa_multimodal[1][0])\n",
    "plt.plot(fpr,tpr,label=\"AUC for integration=\"+str(auc))\n",
    "\n",
    "plt.ylabel('True Positive Rate')\n",
    "plt.xlabel('False Positive Rate')\n",
    "plt.legend(loc=4) \n",
    "plt.show()"
   ]
  }
 ],
 "metadata": {
  "kernelspec": {
   "display_name": "Python 3",
   "language": "python",
   "name": "python3"
  },
  "language_info": {
   "codemirror_mode": {
    "name": "ipython",
    "version": 3
   },
   "file_extension": ".py",
   "mimetype": "text/x-python",
   "name": "python",
   "nbconvert_exporter": "python",
   "pygments_lexer": "ipython3",
   "version": "3.6.15"
  },
  "toc": {
   "base_numbering": 1,
   "nav_menu": {},
   "number_sections": true,
   "sideBar": true,
   "skip_h1_title": false,
   "title_cell": "Table of Contents",
   "title_sidebar": "Contents",
   "toc_cell": false,
   "toc_position": {},
   "toc_section_display": true,
   "toc_window_display": false
  },
  "varInspector": {
   "cols": {
    "lenName": 16,
    "lenType": 16,
    "lenVar": 40
   },
   "kernels_config": {
    "python": {
     "delete_cmd_postfix": "",
     "delete_cmd_prefix": "del ",
     "library": "var_list.py",
     "varRefreshCmd": "print(var_dic_list())"
    },
    "r": {
     "delete_cmd_postfix": ") ",
     "delete_cmd_prefix": "rm(",
     "library": "var_list.r",
     "varRefreshCmd": "cat(var_dic_list()) "
    }
   },
   "types_to_exclude": [
    "module",
    "function",
    "builtin_function_or_method",
    "instance",
    "_Feature"
   ],
   "window_display": false
  }
 },
 "nbformat": 4,
 "nbformat_minor": 5
}
